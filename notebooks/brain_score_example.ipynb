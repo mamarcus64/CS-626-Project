{
 "cells": [
  {
   "cell_type": "markdown",
   "metadata": {},
   "source": [
    "### Load dependencies"
   ]
  },
  {
   "cell_type": "code",
   "execution_count": 8,
   "metadata": {},
   "outputs": [
    {
     "name": "stdout",
     "output_type": "stream",
     "text": [
      "The autoreload extension is already loaded. To reload it, use:\n",
      "  %reload_ext autoreload\n"
     ]
    }
   ],
   "source": [
    "%load_ext autoreload\n",
    "%autoreload 2\n",
    "import warnings\n",
    "warnings.simplefilter(action='ignore', category=FutureWarning)\n",
    "\n",
    "import sys\n",
    "sys.path.append(\"../.venv\")\n",
    "sys.path.append(\"../brain-score-language/brainscore_language\")\n",
    "\n",
    "import numpy as np\n",
    "\n",
    "from brainio.assemblies import merge_data_arrays\n",
    "from brainscore_language import load_benchmark\n",
    "from brainscore_language.model_helpers.huggingface import HuggingfaceSubject\n",
    "from brainscore_language import ArtificialSubject\n",
    "\n",
    "from matplotlib import pyplot as plt\n",
    "from tqdm import tqdm"
   ]
  },
  {
   "cell_type": "markdown",
   "metadata": {},
   "source": [
    "### Load and visualize model"
   ]
  },
  {
   "cell_type": "code",
   "execution_count": 2,
   "metadata": {},
   "outputs": [
    {
     "name": "stdout",
     "output_type": "stream",
     "text": [
      "GPT2LMHeadModel(\n",
      "  (transformer): GPT2Model(\n",
      "    (wte): Embedding(50257, 768)\n",
      "    (wpe): Embedding(1024, 768)\n",
      "    (drop): Dropout(p=0.1, inplace=False)\n",
      "    (h): ModuleList(\n",
      "      (0-5): 6 x GPT2Block(\n",
      "        (ln_1): LayerNorm((768,), eps=1e-05, elementwise_affine=True)\n",
      "        (attn): GPT2SdpaAttention(\n",
      "          (c_attn): Conv1D(nf=2304, nx=768)\n",
      "          (c_proj): Conv1D(nf=768, nx=768)\n",
      "          (attn_dropout): Dropout(p=0.1, inplace=False)\n",
      "          (resid_dropout): Dropout(p=0.1, inplace=False)\n",
      "        )\n",
      "        (ln_2): LayerNorm((768,), eps=1e-05, elementwise_affine=True)\n",
      "        (mlp): GPT2MLP(\n",
      "          (c_fc): Conv1D(nf=3072, nx=768)\n",
      "          (c_proj): Conv1D(nf=768, nx=3072)\n",
      "          (act): NewGELUActivation()\n",
      "          (dropout): Dropout(p=0.1, inplace=False)\n",
      "        )\n",
      "      )\n",
      "    )\n",
      "    (ln_f): LayerNorm((768,), eps=1e-05, elementwise_affine=True)\n",
      "  )\n",
      "  (lm_head): Linear(in_features=768, out_features=50257, bias=False)\n",
      ")\n"
     ]
    }
   ],
   "source": [
    "model = HuggingfaceSubject(model_id='distilgpt2', region_layer_mapping={})\n",
    "print(model.basemodel)"
   ]
  },
  {
   "cell_type": "markdown",
   "metadata": {},
   "source": [
    "Load Pereira 2018 benchmark dataset and score GPT-2 layers"
   ]
  },
  {
   "cell_type": "code",
   "execution_count": 4,
   "metadata": {},
   "outputs": [
    {
     "name": "stderr",
     "output_type": "stream",
     "text": [
      "huggingface/tokenizers: The current process just got forked, after parallelism has already been used. Disabling parallelism to avoid deadlocks...\n",
      "To disable this warning, you can either:\n",
      "\t- Avoid using `tokenizers` before the fork if possible\n",
      "\t- Explicitly set the environment variable TOKENIZERS_PARALLELISM=(true | false)\n"
     ]
    },
    {
     "name": "stdout",
     "output_type": "stream",
     "text": [
      "Requirement already satisfied: scikit-learn in /Users/emilyzhou/Desktop/PSYC626/CS-626-Project/.venv/lib/python3.11/site-packages (from -r /Users/emilyzhou/Desktop/PSYC626/CS-626-Project/brain-score-language/brainscore_language/metrics/linear_predictivity/requirements.txt (line 1)) (1.5.2)\n",
      "Requirement already satisfied: numpy>=1.19.5 in /Users/emilyzhou/Desktop/PSYC626/CS-626-Project/.venv/lib/python3.11/site-packages (from scikit-learn->-r /Users/emilyzhou/Desktop/PSYC626/CS-626-Project/brain-score-language/brainscore_language/metrics/linear_predictivity/requirements.txt (line 1)) (1.26.4)\n",
      "Requirement already satisfied: scipy>=1.6.0 in /Users/emilyzhou/Desktop/PSYC626/CS-626-Project/.venv/lib/python3.11/site-packages (from scikit-learn->-r /Users/emilyzhou/Desktop/PSYC626/CS-626-Project/brain-score-language/brainscore_language/metrics/linear_predictivity/requirements.txt (line 1)) (1.13.1)\n",
      "Requirement already satisfied: joblib>=1.2.0 in /Users/emilyzhou/Desktop/PSYC626/CS-626-Project/.venv/lib/python3.11/site-packages (from scikit-learn->-r /Users/emilyzhou/Desktop/PSYC626/CS-626-Project/brain-score-language/brainscore_language/metrics/linear_predictivity/requirements.txt (line 1)) (1.4.2)\n",
      "Requirement already satisfied: threadpoolctl>=3.1.0 in /Users/emilyzhou/Desktop/PSYC626/CS-626-Project/.venv/lib/python3.11/site-packages (from scikit-learn->-r /Users/emilyzhou/Desktop/PSYC626/CS-626-Project/brain-score-language/brainscore_language/metrics/linear_predictivity/requirements.txt (line 1)) (3.5.0)\n"
     ]
    },
    {
     "name": "stderr",
     "output_type": "stream",
     "text": [
      "layers:   0%|          | 0/6 [00:00<?, ?it/s]\n",
      "\u001b[A\n",
      "\u001b[A\n",
      "\u001b[A\n",
      "\u001b[A\n",
      "\u001b[A\n",
      "\u001b[A\n",
      "\u001b[A\n",
      "\u001b[A\n",
      "\u001b[A\n",
      "\u001b[A\n",
      "cross-validation: 100%|██████████| 10/10 [01:10<00:00,  7.04s/it]\n",
      "layers:  17%|█▋        | 1/6 [01:19<06:37, 79.59s/it]\n",
      "\u001b[A\n",
      "\u001b[A\n",
      "\u001b[A\n",
      "\u001b[A\n",
      "\u001b[A\n",
      "\u001b[A\n",
      "\u001b[A\n",
      "\u001b[A\n",
      "\u001b[A\n",
      "\u001b[A\n",
      "cross-validation: 100%|██████████| 10/10 [01:09<00:00,  7.00s/it]\n",
      "layers:  33%|███▎      | 2/6 [02:37<05:15, 78.85s/it]\n",
      "\u001b[A\n",
      "\u001b[A\n",
      "\u001b[A\n",
      "\u001b[A\n",
      "\u001b[A\n",
      "\u001b[A\n",
      "\u001b[A\n",
      "\u001b[A\n",
      "\u001b[A\n",
      "\u001b[A\n",
      "cross-validation: 100%|██████████| 10/10 [01:11<00:00,  7.15s/it]\n",
      "layers:  50%|█████     | 3/6 [03:57<03:58, 79.34s/it]\n",
      "\u001b[A\n",
      "\u001b[A\n",
      "\u001b[A\n",
      "\u001b[A\n",
      "\u001b[A\n",
      "\u001b[A\n",
      "\u001b[A\n",
      "\u001b[A\n",
      "\u001b[A\n",
      "\u001b[A\n",
      "cross-validation: 100%|██████████| 10/10 [01:15<00:00,  7.53s/it]\n",
      "layers:  67%|██████▋   | 4/6 [05:22<02:42, 81.31s/it]\n",
      "\u001b[A\n",
      "\u001b[A\n",
      "\u001b[A\n",
      "\u001b[A\n",
      "\u001b[A\n",
      "\u001b[A\n",
      "\u001b[A\n",
      "\u001b[A\n",
      "\u001b[A\n",
      "\u001b[A\n",
      "cross-validation: 100%|██████████| 10/10 [01:11<00:00,  7.16s/it]\n",
      "layers:  83%|████████▎ | 5/6 [06:42<01:20, 80.91s/it]\n",
      "\u001b[A\n",
      "\u001b[A\n",
      "\u001b[A\n",
      "\u001b[A\n",
      "\u001b[A\n",
      "\u001b[A\n",
      "\u001b[A\n",
      "\u001b[A\n",
      "\u001b[A\n",
      "\u001b[A\n",
      "cross-validation: 100%|██████████| 10/10 [01:12<00:00,  7.26s/it]\n",
      "layers: 100%|██████████| 6/6 [08:03<00:00, 80.59s/it]"
     ]
    },
    {
     "name": "stdout",
     "output_type": "stream",
     "text": [
      "<xarray.Score (layer: 6)>\n",
      "array([0.        , 0.52146469, 0.60917843, 0.56198117, 0.65840979,\n",
      "       0.76195976])\n",
      "Coordinates:\n",
      "  * layer    (layer) <U20 'transformer.h.0.ln_1' ... 'transformer.h.5.ln_1'\n",
      "Attributes:\n",
      "    raw:                          <xarray.Score (layer: 1)>\\narray([-0.019374...\n",
      "    ceiling:                      <xarray.Score 'data' ()>\\narray(0.35378928)...\n",
      "    original_out_of_range_score:  -0.05476344003752025\n"
     ]
    },
    {
     "name": "stderr",
     "output_type": "stream",
     "text": [
      "\n"
     ]
    }
   ],
   "source": [
    "benchmark = load_benchmark('Pereira2018.243sentences-linear')\n",
    "\n",
    "layer_scores = []\n",
    "for layer in tqdm([f'transformer.h.{block}.ln_1' for block in range(6)], desc='layers'):\n",
    "    layer_model = HuggingfaceSubject(model_id='distilgpt2', region_layer_mapping={\n",
    "        ArtificialSubject.RecordingTarget.language_system: layer})\n",
    "    layer_score = benchmark(layer_model)\n",
    "    # package for xarray\n",
    "    layer_score = layer_score.expand_dims('layer')\n",
    "    layer_score['layer'] = [layer]\n",
    "    layer_scores.append(layer_score)\n",
    "layer_scores = merge_data_arrays(layer_scores)\n",
    "print(layer_scores)"
   ]
  },
  {
   "cell_type": "code",
   "execution_count": 9,
   "metadata": {},
   "outputs": [
    {
     "name": "stderr",
     "output_type": "stream",
     "text": [
      "/var/folders/nr/k2l4pvsd4vqc6pt6xf46_mqm0000gn/T/ipykernel_71306/3315703225.py:7: UserWarning: FigureCanvasAgg is non-interactive, and thus cannot be shown\n",
      "  fig.show()\n"
     ]
    },
    {
     "data": {
      "image/png": "[encoded data removed]",
      "text/plain": [
       "<Figure size 640x480 with 1 Axes>"
      ]
     },
     "metadata": {},
     "output_type": "display_data"
    }
   ],
   "source": [
    "fig, ax = plt.subplots()\n",
    "x = np.arange(len(layer_scores))\n",
    "ax.scatter(x, layer_scores)\n",
    "ax.set_xticks(x)\n",
    "ax.set_xticklabels(layer_scores['layer'].values, rotation=90)\n",
    "ax.set_ylabel('score')\n",
    "fig.show()"
   ]
  }
 ],
 "metadata": {
  "kernelspec": {
   "display_name": ".venv",
   "language": "python",
   "name": "python3"
  },
  "language_info": {
   "codemirror_mode": {
    "name": "ipython",
    "version": 3
   },
   "file_extension": ".py",
   "mimetype": "text/x-python",
   "name": "python",
   "nbconvert_exporter": "python",
   "pygments_lexer": "ipython3",
   "version": "3.11.0"
  }
 },
 "nbformat": 4,
 "nbformat_minor": 2
}
