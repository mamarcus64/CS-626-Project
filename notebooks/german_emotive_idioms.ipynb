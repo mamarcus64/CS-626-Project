{
 "cells": [
  {
   "cell_type": "markdown",
   "metadata": {},
   "source": [
    "### Implementation of the brain-score/language pipeline on the German Emotive Idioms dataset"
   ]
  },
  {
   "cell_type": "code",
   "execution_count": 1,
   "metadata": {},
   "outputs": [
    {
     "name": "stderr",
     "output_type": "stream",
     "text": [
      "/Users/emilyzhou/Desktop/PSYC626/CS-626-Project/.venv/lib/python3.11/site-packages/brainscore_core/metrics/__init__.py:16: FutureWarning: xarray subclass Score should explicitly define __slots__\n",
      "  class Score(DataAssembly):\n"
     ]
    }
   ],
   "source": [
    "# %load_ext autoreload\n",
    "# %autoreload 2\n",
    "\n",
    "import os\n",
    "import sys\n",
    "import json\n",
    "\n",
    "sys.path.append(\"brain-score-language\")\n",
    "\n",
    "import torch\n",
    "import random \n",
    "import argparse\n",
    "import warnings\n",
    "import numpy as np\n",
    "import pandas as pd\n",
    "import pickle as pkl\n",
    "\n",
    "from brainio.assemblies import merge_data_arrays\n",
    "from brainscore_language import ArtificialSubject, load_benchmark, score\n",
    "from brainscore_language.benchmarks.german_emotive_idioms import GermanEmotiveIdioms\n",
    "from brainscore_language.model_helpers.huggingface import HuggingfaceSubject\n",
    "from matplotlib import pyplot as plt\n",
    "from tqdm import tqdm\n",
    "from transformers import AutoModelForCausalLM, AutoTokenizer, AutoConfig, AutoModelForSeq2SeqLM"
   ]
  },
  {
   "cell_type": "code",
   "execution_count": 2,
   "metadata": {},
   "outputs": [
    {
     "data": {
      "application/vnd.jupyter.widget-view+json": {
       "model_id": "a2ac8555c34e4257b15ba08c13993090",
       "version_major": 2,
       "version_minor": 0
      },
      "text/plain": [
       "VBox(children=(HTML(value='<center> <img\\nsrc=https://huggingface.co/front/assets/huggingface_logo-noborder.sv…"
      ]
     },
     "metadata": {},
     "output_type": "display_data"
    }
   ],
   "source": [
    "from huggingface_hub import login\n",
    "\n",
    "from huggingface_hub import notebook_login\n",
    "notebook_login()"
   ]
  },
  {
   "cell_type": "markdown",
   "metadata": {},
   "source": [
    "### Load and visualize model"
   ]
  },
  {
   "cell_type": "code",
   "execution_count": 3,
   "metadata": {},
   "outputs": [
    {
     "name": "stdout",
     "output_type": "stream",
     "text": [
      "GPT2LMHeadModel(\n",
      "  (transformer): GPT2Model(\n",
      "    (wte): Embedding(50257, 768)\n",
      "    (wpe): Embedding(1024, 768)\n",
      "    (drop): Dropout(p=0.1, inplace=False)\n",
      "    (h): ModuleList(\n",
      "      (0-5): 6 x GPT2Block(\n",
      "        (ln_1): LayerNorm((768,), eps=1e-05, elementwise_affine=True)\n",
      "        (attn): GPT2SdpaAttention(\n",
      "          (c_attn): Conv1D(nf=2304, nx=768)\n",
      "          (c_proj): Conv1D(nf=768, nx=768)\n",
      "          (attn_dropout): Dropout(p=0.1, inplace=False)\n",
      "          (resid_dropout): Dropout(p=0.1, inplace=False)\n",
      "        )\n",
      "        (ln_2): LayerNorm((768,), eps=1e-05, elementwise_affine=True)\n",
      "        (mlp): GPT2MLP(\n",
      "          (c_fc): Conv1D(nf=3072, nx=768)\n",
      "          (c_proj): Conv1D(nf=768, nx=3072)\n",
      "          (act): NewGELUActivation()\n",
      "          (dropout): Dropout(p=0.1, inplace=False)\n",
      "        )\n",
      "      )\n",
      "    )\n",
      "    (ln_f): LayerNorm((768,), eps=1e-05, elementwise_affine=True)\n",
      "  )\n",
      "  (lm_head): Linear(in_features=768, out_features=50257, bias=False)\n",
      ")\n"
     ]
    }
   ],
   "source": [
    "model = HuggingfaceSubject(model_id='distilgpt2', region_layer_mapping={})\n",
    "# model = HuggingfaceSubject(model_id='meta-llama/Llama-2-7b', region_layer_mapping={})\n",
    "print(model.basemodel)"
   ]
  },
  {
   "cell_type": "markdown",
   "metadata": {},
   "source": [
    "### Load German Idioms benchmark dataset and score GPT-2 layers"
   ]
  },
  {
   "cell_type": "code",
   "execution_count": 4,
   "metadata": {},
   "outputs": [
    {
     "name": "stdout",
     "output_type": "stream",
     "text": [
      "Neural data: (12, 150)\n",
      "Ceilings: ['score', 'raw', 'neuroid_id']\n",
      "<xarray.Score 'data' ()>\n",
      "array(0.06087531)\n"
     ]
    },
    {
     "name": "stderr",
     "output_type": "stream",
     "text": [
      "/var/folders/nr/k2l4pvsd4vqc6pt6xf46_mqm0000gn/T/ipykernel_66371/2369733596.py:21: FutureWarning: Setting attribute 'raw' on a 'Score' object. Explicitly define __slots__ to suppress this warning for legitimate custom attributes and raise an error when attempting variables assignments.\n",
      "  ceiling.raw = raw\n"
     ]
    }
   ],
   "source": [
    "# Load neural data\n",
    "# TODO: Replace placeholder data with actual fMRI activations\n",
    "\n",
    "from brainscore_core.metrics import Score\n",
    "\n",
    "neural_data_folder = os.path.join(\"..\", \"emotive_idioms_dataset\", \"processed_data\")\n",
    "neural_data_file = os.path.join(neural_data_folder, \"dummy_data.npy\")\n",
    "ceilings_file = os.path.join(neural_data_folder, \"dummy_ceilings.json\")\n",
    "neural_data = np.load(neural_data_file)\n",
    "with open(ceilings_file, \"r\") as f:\n",
    "    ceiling = json.load(f)\n",
    "\n",
    "print(f\"Neural data: {neural_data.shape}\")\n",
    "print(f\"Ceilings: {list(ceiling.keys())}\")\n",
    "# print(ceiling)\n",
    "\n",
    "# Cast ceiling to Score\n",
    "score = ceiling['score']\n",
    "raw = ceiling['raw']\n",
    "ceiling = Score(score)\n",
    "ceiling.raw = raw\n",
    "ceiling.name = 'data'\n",
    "print(ceiling)"
   ]
  },
  {
   "cell_type": "code",
   "execution_count": 5,
   "metadata": {},
   "outputs": [
    {
     "name": "stdout",
     "output_type": "stream",
     "text": [
      "Requirement already satisfied: scikit-learn in /Users/emilyzhou/Desktop/PSYC626/CS-626-Project/.venv/lib/python3.11/site-packages (from -r /Users/emilyzhou/Desktop/PSYC626/CS-626-Project/brain-score-language/brainscore_language/metrics/linear_predictivity/requirements.txt (line 1)) (1.5.2)\n",
      "Requirement already satisfied: numpy>=1.19.5 in /Users/emilyzhou/Desktop/PSYC626/CS-626-Project/.venv/lib/python3.11/site-packages (from scikit-learn->-r /Users/emilyzhou/Desktop/PSYC626/CS-626-Project/brain-score-language/brainscore_language/metrics/linear_predictivity/requirements.txt (line 1)) (1.26.4)\n",
      "Requirement already satisfied: scipy>=1.6.0 in /Users/emilyzhou/Desktop/PSYC626/CS-626-Project/.venv/lib/python3.11/site-packages (from scikit-learn->-r /Users/emilyzhou/Desktop/PSYC626/CS-626-Project/brain-score-language/brainscore_language/metrics/linear_predictivity/requirements.txt (line 1)) (1.13.1)\n",
      "Requirement already satisfied: joblib>=1.2.0 in /Users/emilyzhou/Desktop/PSYC626/CS-626-Project/.venv/lib/python3.11/site-packages (from scikit-learn->-r /Users/emilyzhou/Desktop/PSYC626/CS-626-Project/brain-score-language/brainscore_language/metrics/linear_predictivity/requirements.txt (line 1)) (1.4.2)\n",
      "Requirement already satisfied: threadpoolctl>=3.1.0 in /Users/emilyzhou/Desktop/PSYC626/CS-626-Project/.venv/lib/python3.11/site-packages (from scikit-learn->-r /Users/emilyzhou/Desktop/PSYC626/CS-626-Project/brain-score-language/brainscore_language/metrics/linear_predictivity/requirements.txt (line 1)) (3.5.0)\n"
     ]
    }
   ],
   "source": [
    "import warnings\n",
    "warnings.simplefilter(action='ignore', category=FutureWarning)\n",
    "\n",
    "benchmark = load_benchmark('Pereira2018.243sentences-linear')\n",
    "data = benchmark.data\n",
    "df = benchmark.data.to_dataframe()\n",
    "# print(data)\n",
    "# print(data['presentation']['stimulus_id'])\n",
    "# print(data['presentation']['stimulus'])\n",
    "# print(data['presentation']['sentence'])\n",
    "\n",
    "# layer_scores = []\n",
    "# for layer in tqdm([f'transformer.h.{block}.ln_1' for block in range(6)], desc='layers'):\n",
    "#     layer_model = HuggingfaceSubject(model_id='distilgpt2', region_layer_mapping={\n",
    "#         ArtificialSubject.RecordingTarget.language_system: layer})\n",
    "#     layer_score = benchmark(layer_model)\n",
    "#     # package for xarray\n",
    "#     layer_score = layer_score.expand_dims('layer')\n",
    "#     layer_score['layer'] = [layer]\n",
    "#     layer_scores.append(layer_score)\n",
    "# layer_scores = merge_data_arrays(layer_scores)\n",
    "# print(layer_scores)"
   ]
  },
  {
   "cell_type": "code",
   "execution_count": 6,
   "metadata": {},
   "outputs": [
    {
     "name": "stdout",
     "output_type": "stream",
     "text": [
      "Requirement already satisfied: scikit-learn in /Users/emilyzhou/Desktop/PSYC626/CS-626-Project/.venv/lib/python3.11/site-packages (from -r /Users/emilyzhou/Desktop/PSYC626/CS-626-Project/brain-score-language/brainscore_language/metrics/linear_predictivity/requirements.txt (line 1)) (1.5.2)\n",
      "Requirement already satisfied: numpy>=1.19.5 in /Users/emilyzhou/Desktop/PSYC626/CS-626-Project/.venv/lib/python3.11/site-packages (from scikit-learn->-r /Users/emilyzhou/Desktop/PSYC626/CS-626-Project/brain-score-language/brainscore_language/metrics/linear_predictivity/requirements.txt (line 1)) (1.26.4)\n",
      "Requirement already satisfied: scipy>=1.6.0 in /Users/emilyzhou/Desktop/PSYC626/CS-626-Project/.venv/lib/python3.11/site-packages (from scikit-learn->-r /Users/emilyzhou/Desktop/PSYC626/CS-626-Project/brain-score-language/brainscore_language/metrics/linear_predictivity/requirements.txt (line 1)) (1.13.1)\n",
      "Requirement already satisfied: joblib>=1.2.0 in /Users/emilyzhou/Desktop/PSYC626/CS-626-Project/.venv/lib/python3.11/site-packages (from scikit-learn->-r /Users/emilyzhou/Desktop/PSYC626/CS-626-Project/brain-score-language/brainscore_language/metrics/linear_predictivity/requirements.txt (line 1)) (1.4.2)\n",
      "Requirement already satisfied: threadpoolctl>=3.1.0 in /Users/emilyzhou/Desktop/PSYC626/CS-626-Project/.venv/lib/python3.11/site-packages (from scikit-learn->-r /Users/emilyzhou/Desktop/PSYC626/CS-626-Project/brain-score-language/brainscore_language/metrics/linear_predictivity/requirements.txt (line 1)) (3.5.0)\n"
     ]
    },
    {
     "name": "stderr",
     "output_type": "stream",
     "text": [
      "layers: 100%|██████████| 6/6 [00:22<00:00,  3.71s/it]"
     ]
    },
    {
     "name": "stdout",
     "output_type": "stream",
     "text": [
      "<xarray.Score (layer: 6)>\n",
      "array([1., 0., 1., 1., 1., 0.])\n",
      "Coordinates:\n",
      "  * layer    (layer) <U20 'transformer.h.0.ln_1' ... 'transformer.h.5.ln_1'\n",
      "Attributes:\n",
      "    raw:                          <xarray.Score (layer: 1)>\\narray([0.2])\\nCo...\n",
      "    ceiling:                      <xarray.Score 'data' ()>\\narray(0.06087531)\n",
      "    original_out_of_range_score:  3.2854040966333793\n"
     ]
    },
    {
     "name": "stderr",
     "output_type": "stream",
     "text": [
      "\n"
     ]
    }
   ],
   "source": [
    "benchmark = GermanEmotiveIdioms(neural_data, ceiling)\n",
    "data = benchmark.data\n",
    "df = benchmark.data.to_dataframe()\n",
    "# print(data)\n",
    "# print(data['presentation']['stimulus_id'])\n",
    "\n",
    "layer_scores = []\n",
    "for layer in tqdm([f'transformer.h.{block}.ln_1' for block in range(6)], desc='layers'):\n",
    "    layer_model = HuggingfaceSubject(model_id='distilgpt2', region_layer_mapping={\n",
    "        ArtificialSubject.RecordingTarget.language_system: layer})\n",
    "    layer_score = benchmark(layer_model)\n",
    "    # package for xarray\n",
    "    layer_score = layer_score.expand_dims('layer')\n",
    "    layer_score['layer'] = [layer]\n",
    "    layer_scores.append(layer_score)\n",
    "layer_scores = merge_data_arrays(layer_scores)\n",
    "print(layer_scores)"
   ]
  }
 ],
 "metadata": {
  "kernelspec": {
   "display_name": ".venv",
   "language": "python",
   "name": "python3"
  },
  "language_info": {
   "codemirror_mode": {
    "name": "ipython",
    "version": 3
   },
   "file_extension": ".py",
   "mimetype": "text/x-python",
   "name": "python",
   "nbconvert_exporter": "python",
   "pygments_lexer": "ipython3",
   "version": "3.11.0"
  }
 },
 "nbformat": 4,
 "nbformat_minor": 2
}
